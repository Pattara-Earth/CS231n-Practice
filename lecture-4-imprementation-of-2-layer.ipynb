{
 "cells": [
  {
   "cell_type": "code",
   "execution_count": 2,
   "id": "b4bd6853",
   "metadata": {},
   "outputs": [],
   "source": [
    "import numpy as np"
   ]
  },
  {
   "cell_type": "code",
   "execution_count": 3,
   "id": "5ccbd2ef",
   "metadata": {},
   "outputs": [
    {
     "name": "stdout",
     "output_type": "stream",
     "text": [
      "30449.95862601728\n",
      "912.7485178500668\n",
      "303.8126420263222\n",
      "140.17349474176763\n",
      "71.85772391678137\n",
      "40.69127896019606\n",
      "25.129372938713953\n",
      "16.11407672537731\n",
      "10.678772635392743\n",
      "7.252556147439899\n",
      "5.0443643163578455\n",
      "3.5857104533939594\n",
      "2.5943020883243895\n",
      "1.906501313386859\n",
      "1.4218883289953035\n",
      "1.0740633154254036\n",
      "0.8197341898695762\n",
      "0.6308009512728441\n",
      "0.48860873848695596\n",
      "0.38046799644470564\n"
     ]
    }
   ],
   "source": [
    "# http://cs231n.stanford.edu/slides/2023/lecture_4.pdf\n",
    "# edge = value, node = function/operation\n",
    "np.random.seed(49)\n",
    "\n",
    "N, D_in, H, D_out = 64, 1000, 100, 10\n",
    "\n",
    "x, y = np.random.randn(N, D_in), np.random.randn(N, D_out)\n",
    "w1, w2 = np.random.randn(D_in, H), np.random.randn(H, D_out)\n",
    "\n",
    "sigmoid = lambda x: 1/(1+np.exp(-x))\n",
    "\n",
    "lr = 1e-4\n",
    "\n",
    "for i in range(4000):\n",
    "    # forward\n",
    "    h1 = sigmoid(x.dot(w1))\n",
    "    y_pred = h1.dot(w2)\n",
    "    loss = np.square(y_pred-y).sum()\n",
    "    if i % 200 == 0:\n",
    "        print(loss)\n",
    "\n",
    "    # backward - calculate analytical gradients\n",
    "    grad_top = 1.0\n",
    "    grad_y_pred = 2*(y_pred-y)*grad_top\n",
    "    grad_w2 = h1.T.dot(grad_y_pred)\n",
    "    grad_h1 = grad_y_pred.dot(w2.T)\n",
    "    grad_w1 = x.T.dot(grad_h1*h1*(1-h1))\n",
    "\n",
    "\n",
    "    # update step\n",
    "    w1 += -lr*grad_w1\n",
    "    w2 += -lr*grad_w2"
   ]
  },
  {
   "cell_type": "code",
   "execution_count": null,
   "id": "97f428ef",
   "metadata": {},
   "outputs": [],
   "source": []
  }
 ],
 "metadata": {
  "kernelspec": {
   "display_name": "Python 3 (ipykernel)",
   "language": "python",
   "name": "python3"
  },
  "language_info": {
   "codemirror_mode": {
    "name": "ipython",
    "version": 3
   },
   "file_extension": ".py",
   "mimetype": "text/x-python",
   "name": "python",
   "nbconvert_exporter": "python",
   "pygments_lexer": "ipython3",
   "version": "3.10.9"
  }
 },
 "nbformat": 4,
 "nbformat_minor": 5
}
